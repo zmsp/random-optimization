{
 "cells": [
  {
   "cell_type": "code",
   "execution_count": 1,
   "metadata": {
    "collapsed": true,
    "pycharm": {
     "name": "#%%\n"
    }
   },
   "outputs": [
    {
     "name": "stdout",
     "output_type": "stream",
     "text": [
      "Requirement already satisfied: mlrose_hiive in ./venv/lib/python3.10/site-packages (2.2.4)\r\n",
      "Requirement already satisfied: joblib in ./venv/lib/python3.10/site-packages (from mlrose_hiive) (1.2.0)\r\n",
      "Requirement already satisfied: networkx in ./venv/lib/python3.10/site-packages (from mlrose_hiive) (2.8.7)\r\n",
      "Requirement already satisfied: scikit-learn in ./venv/lib/python3.10/site-packages (from mlrose_hiive) (1.1.2)\r\n",
      "Requirement already satisfied: pandas in ./venv/lib/python3.10/site-packages (from mlrose_hiive) (1.5.0)\r\n",
      "Requirement already satisfied: numpy in ./venv/lib/python3.10/site-packages (from mlrose_hiive) (1.23.4)\r\n",
      "Requirement already satisfied: scipy in ./venv/lib/python3.10/site-packages (from mlrose_hiive) (1.9.2)\r\n",
      "Requirement already satisfied: python-dateutil>=2.8.1 in ./venv/lib/python3.10/site-packages (from pandas->mlrose_hiive) (2.8.2)\r\n",
      "Requirement already satisfied: pytz>=2020.1 in ./venv/lib/python3.10/site-packages (from pandas->mlrose_hiive) (2022.4)\r\n",
      "Requirement already satisfied: threadpoolctl>=2.0.0 in ./venv/lib/python3.10/site-packages (from scikit-learn->mlrose_hiive) (3.1.0)\r\n",
      "Requirement already satisfied: six>=1.5 in ./venv/lib/python3.10/site-packages (from python-dateutil>=2.8.1->pandas->mlrose_hiive) (1.16.0)\r\n"
     ]
    }
   ],
   "source": [
    "!pip install mlrose_hiive"
   ]
  },
  {
   "cell_type": "code",
   "execution_count": 5,
   "outputs": [],
   "source": [
    "import mlrose_hiive as mlrose\n",
    "import numpy as np\n",
    "from IPython.core.display import display, HTML\n"
   ],
   "metadata": {
    "collapsed": false,
    "pycharm": {
     "name": "#%%\n"
    }
   }
  },
  {
   "cell_type": "code",
   "execution_count": 18,
   "outputs": [],
   "source": [
    "import numpy as np\n",
    "import mlrose_hiive as mlrose\n",
    "## from https://mlrose.readthedocs.io/en/stable/source/fitness.html\n",
    "edges = [(0, 1), (1, 2), (0, 2), (1, 3), (2, 3), (3, 4)]\n",
    "fitness = mlrose.MaxKColor(edges)\n",
    "problem = mlrose.DiscreteOpt(length=6, fitness_fn=fitness, maximize=False, max_val=2)\n",
    "\n",
    "rhc = mlrose.RHCRunner(problem=problem,\n",
    "                       experiment_name=\"RHC\",\n",
    "                       output_directory=\"./outputs\",\n",
    "                       seed=None,\n",
    "                       iteration_list=2 ** np.arange(14),\n",
    "                       max_attempts=1000,\n",
    "                       restart_list=[0])\n",
    "rhc_run_stats, rhc_run_curves = rhc.run()\n",
    "\n"
   ],
   "metadata": {
    "collapsed": false,
    "pycharm": {
     "name": "#%%\n"
    }
   }
  },
  {
   "cell_type": "code",
   "execution_count": 17,
   "outputs": [
    {
     "name": "stdout",
     "output_type": "stream",
     "text": [
      "    Iteration  Fitness  FEvals      Time               State  Restarts  \\\n",
      "0           0      1.0       0  0.000108  [0, 1, 1, 0, 1, 0]         0   \n",
      "1           1      1.0       1  0.002784  [0, 1, 1, 0, 1, 0]         0   \n",
      "2           2      1.0       2  0.004476  [0, 1, 1, 0, 1, 0]         0   \n",
      "3           4      1.0       4  0.006240  [0, 1, 1, 0, 1, 0]         0   \n",
      "4           8      1.0       8  0.008048  [0, 1, 1, 0, 1, 0]         0   \n",
      "5          16      1.0      16  0.009876  [0, 1, 1, 0, 1, 0]         0   \n",
      "6          32      1.0      32  0.011887  [0, 1, 1, 0, 1, 0]         0   \n",
      "7          64      1.0      64  0.014466  [0, 1, 1, 0, 1, 0]         0   \n",
      "8         128      1.0     128  0.018603  [0, 1, 1, 0, 1, 0]         0   \n",
      "9         256      1.0     256  0.028588  [0, 1, 1, 0, 1, 0]         0   \n",
      "10        512      1.0     512  0.051703  [0, 1, 1, 0, 1, 0]         0   \n",
      "11       1024      1.0    1000  0.124443  [0, 1, 1, 0, 1, 0]         0   \n",
      "12       2048      1.0    1000  0.124443  [0, 1, 1, 0, 1, 0]         0   \n",
      "13       4096      1.0    1000  0.124443  [0, 1, 1, 0, 1, 0]         0   \n",
      "14       8192      1.0    1000  0.124443  [0, 1, 1, 0, 1, 0]         0   \n",
      "\n",
      "    max_iters  current_restart  \n",
      "0        8192                0  \n",
      "1        8192                0  \n",
      "2        8192                0  \n",
      "3        8192                0  \n",
      "4        8192                0  \n",
      "5        8192                0  \n",
      "6        8192                0  \n",
      "7        8192                0  \n",
      "8        8192                0  \n",
      "9        8192                0  \n",
      "10       8192                0  \n",
      "11       8192                0  \n",
      "12       8192                0  \n",
      "13       8192                0  \n",
      "14       8192                0  \n"
     ]
    }
   ],
   "source": [
    "print(rhc_run_stats)"
   ],
   "metadata": {
    "collapsed": false,
    "pycharm": {
     "name": "#%%\n"
    }
   }
  },
  {
   "cell_type": "code",
   "execution_count": 14,
   "outputs": [],
   "source": [],
   "metadata": {
    "collapsed": false,
    "pycharm": {
     "name": "#%%\n"
    }
   }
  }
 ],
 "metadata": {
  "kernelspec": {
   "display_name": "Python 3",
   "language": "python",
   "name": "python3"
  },
  "language_info": {
   "codemirror_mode": {
    "name": "ipython",
    "version": 2
   },
   "file_extension": ".py",
   "mimetype": "text/x-python",
   "name": "python",
   "nbconvert_exporter": "python",
   "pygments_lexer": "ipython2",
   "version": "2.7.6"
  }
 },
 "nbformat": 4,
 "nbformat_minor": 0
}