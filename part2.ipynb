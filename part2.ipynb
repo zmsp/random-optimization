{
 "cells": [
  {
   "cell_type": "code",
   "execution_count": 125,
   "metadata": {
    "collapsed": true,
    "pycharm": {
     "name": "#%%\n"
    }
   },
   "outputs": [
    {
     "data": {
      "text/plain": "   mean radius  mean texture  mean perimeter  mean area  mean smoothness  \\\n0        17.99         10.38          122.80     1001.0          0.11840   \n1        20.57         17.77          132.90     1326.0          0.08474   \n2        19.69         21.25          130.00     1203.0          0.10960   \n3        11.42         20.38           77.58      386.1          0.14250   \n4        20.29         14.34          135.10     1297.0          0.10030   \n\n   mean compactness  mean concavity  mean concave points  mean symmetry  \\\n0           0.27760          0.3001              0.14710         0.2419   \n1           0.07864          0.0869              0.07017         0.1812   \n2           0.15990          0.1974              0.12790         0.2069   \n3           0.28390          0.2414              0.10520         0.2597   \n4           0.13280          0.1980              0.10430         0.1809   \n\n   mean fractal dimension  ...  worst texture  worst perimeter  worst area  \\\n0                 0.07871  ...          17.33           184.60      2019.0   \n1                 0.05667  ...          23.41           158.80      1956.0   \n2                 0.05999  ...          25.53           152.50      1709.0   \n3                 0.09744  ...          26.50            98.87       567.7   \n4                 0.05883  ...          16.67           152.20      1575.0   \n\n   worst smoothness  worst compactness  worst concavity  worst concave points  \\\n0            0.1622             0.6656           0.7119                0.2654   \n1            0.1238             0.1866           0.2416                0.1860   \n2            0.1444             0.4245           0.4504                0.2430   \n3            0.2098             0.8663           0.6869                0.2575   \n4            0.1374             0.2050           0.4000                0.1625   \n\n   worst symmetry  worst fractal dimension  target  \n0          0.4601                  0.11890       0  \n1          0.2750                  0.08902       0  \n2          0.3613                  0.08758       0  \n3          0.6638                  0.17300       0  \n4          0.2364                  0.07678       0  \n\n[5 rows x 31 columns]",
      "text/html": "<div>\n<style scoped>\n    .dataframe tbody tr th:only-of-type {\n        vertical-align: middle;\n    }\n\n    .dataframe tbody tr th {\n        vertical-align: top;\n    }\n\n    .dataframe thead th {\n        text-align: right;\n    }\n</style>\n<table border=\"1\" class=\"dataframe\">\n  <thead>\n    <tr style=\"text-align: right;\">\n      <th></th>\n      <th>mean radius</th>\n      <th>mean texture</th>\n      <th>mean perimeter</th>\n      <th>mean area</th>\n      <th>mean smoothness</th>\n      <th>mean compactness</th>\n      <th>mean concavity</th>\n      <th>mean concave points</th>\n      <th>mean symmetry</th>\n      <th>mean fractal dimension</th>\n      <th>...</th>\n      <th>worst texture</th>\n      <th>worst perimeter</th>\n      <th>worst area</th>\n      <th>worst smoothness</th>\n      <th>worst compactness</th>\n      <th>worst concavity</th>\n      <th>worst concave points</th>\n      <th>worst symmetry</th>\n      <th>worst fractal dimension</th>\n      <th>target</th>\n    </tr>\n  </thead>\n  <tbody>\n    <tr>\n      <th>0</th>\n      <td>17.99</td>\n      <td>10.38</td>\n      <td>122.80</td>\n      <td>1001.0</td>\n      <td>0.11840</td>\n      <td>0.27760</td>\n      <td>0.3001</td>\n      <td>0.14710</td>\n      <td>0.2419</td>\n      <td>0.07871</td>\n      <td>...</td>\n      <td>17.33</td>\n      <td>184.60</td>\n      <td>2019.0</td>\n      <td>0.1622</td>\n      <td>0.6656</td>\n      <td>0.7119</td>\n      <td>0.2654</td>\n      <td>0.4601</td>\n      <td>0.11890</td>\n      <td>0</td>\n    </tr>\n    <tr>\n      <th>1</th>\n      <td>20.57</td>\n      <td>17.77</td>\n      <td>132.90</td>\n      <td>1326.0</td>\n      <td>0.08474</td>\n      <td>0.07864</td>\n      <td>0.0869</td>\n      <td>0.07017</td>\n      <td>0.1812</td>\n      <td>0.05667</td>\n      <td>...</td>\n      <td>23.41</td>\n      <td>158.80</td>\n      <td>1956.0</td>\n      <td>0.1238</td>\n      <td>0.1866</td>\n      <td>0.2416</td>\n      <td>0.1860</td>\n      <td>0.2750</td>\n      <td>0.08902</td>\n      <td>0</td>\n    </tr>\n    <tr>\n      <th>2</th>\n      <td>19.69</td>\n      <td>21.25</td>\n      <td>130.00</td>\n      <td>1203.0</td>\n      <td>0.10960</td>\n      <td>0.15990</td>\n      <td>0.1974</td>\n      <td>0.12790</td>\n      <td>0.2069</td>\n      <td>0.05999</td>\n      <td>...</td>\n      <td>25.53</td>\n      <td>152.50</td>\n      <td>1709.0</td>\n      <td>0.1444</td>\n      <td>0.4245</td>\n      <td>0.4504</td>\n      <td>0.2430</td>\n      <td>0.3613</td>\n      <td>0.08758</td>\n      <td>0</td>\n    </tr>\n    <tr>\n      <th>3</th>\n      <td>11.42</td>\n      <td>20.38</td>\n      <td>77.58</td>\n      <td>386.1</td>\n      <td>0.14250</td>\n      <td>0.28390</td>\n      <td>0.2414</td>\n      <td>0.10520</td>\n      <td>0.2597</td>\n      <td>0.09744</td>\n      <td>...</td>\n      <td>26.50</td>\n      <td>98.87</td>\n      <td>567.7</td>\n      <td>0.2098</td>\n      <td>0.8663</td>\n      <td>0.6869</td>\n      <td>0.2575</td>\n      <td>0.6638</td>\n      <td>0.17300</td>\n      <td>0</td>\n    </tr>\n    <tr>\n      <th>4</th>\n      <td>20.29</td>\n      <td>14.34</td>\n      <td>135.10</td>\n      <td>1297.0</td>\n      <td>0.10030</td>\n      <td>0.13280</td>\n      <td>0.1980</td>\n      <td>0.10430</td>\n      <td>0.1809</td>\n      <td>0.05883</td>\n      <td>...</td>\n      <td>16.67</td>\n      <td>152.20</td>\n      <td>1575.0</td>\n      <td>0.1374</td>\n      <td>0.2050</td>\n      <td>0.4000</td>\n      <td>0.1625</td>\n      <td>0.2364</td>\n      <td>0.07678</td>\n      <td>0</td>\n    </tr>\n  </tbody>\n</table>\n<p>5 rows × 31 columns</p>\n</div>"
     },
     "execution_count": 125,
     "metadata": {},
     "output_type": "execute_result"
    }
   ],
   "source": [
    "\n",
    "import warnings\n",
    "\n",
    "import pandas as pd\n",
    "\n",
    "warnings.filterwarnings('ignore')\n",
    "warnings.simplefilter(action='ignore', category=FutureWarning)\n",
    "warnings.filterwarnings(\"ignore\", category=DeprecationWarning)\n",
    "data_name = \"Dataset#1\"\n",
    "from sklearn.datasets import load_breast_cancer\n",
    "data = load_breast_cancer(as_frame=True)\n",
    "frame = data.frame\n",
    "df = pd.DataFrame(data=frame)\n",
    "df.head()"
   ]
  },
  {
   "cell_type": "code",
   "execution_count": 126,
   "outputs": [],
   "source": [
    "X = df.iloc[:, :-1]\n",
    "y = df.iloc[:, -1]\n",
    "from sklearn.model_selection import train_test_split\n",
    "X_train, X_test, y_train, y_test = train_test_split(X,y, test_size=0.3, random_state=18)"
   ],
   "metadata": {
    "collapsed": false,
    "pycharm": {
     "name": "#%%\n"
    }
   }
  },
  {
   "cell_type": "code",
   "execution_count": 81,
   "outputs": [],
   "source": [
    "import mlrose_hiive as mlrose\n",
    "from sklearn.metrics import accuracy_score\n",
    "import time\n",
    "import datetime\n"
   ],
   "metadata": {
    "collapsed": false,
    "pycharm": {
     "name": "#%%\n"
    }
   }
  },
  {
   "cell_type": "code",
   "execution_count": 98,
   "outputs": [],
   "source": [
    "def fitmodel(experiment, name):\n",
    "    print(\"Running experiments for \" + name)\n",
    "    t = time.time()\n",
    "    experiment.fit(X_train, y_train)\n",
    "    y_train_pred = experiment.predict(X_train)\n",
    "    y_train_accuracy = accuracy_score(y_train, y_train_pred)\n",
    "    print(\"parameters: {}\" .format(experiment))\n",
    "    print(\"---train----\")\n",
    "    print(\"score\\n{}\".format(y_train_accuracy))\n",
    "    print(\"Time {}\".format(time.time() - t))\n",
    "    y_test_pred = experiment.predict(X_test)\n",
    "    y_test_accuracy = accuracy_score(y_test, y_test_pred)\n",
    "    print(\"---test----\")\n",
    "    print(\"score {}\".format(y_test_accuracy))\n",
    "    print(\"Time {}\".format(time.time() - t))\n",
    "    print(\"{},{},{},{}\".format(name, y_train_accuracy, y_test_accuracy, (time.time() - t)))\n",
    "    return experiment.fitness_curve\n"
   ],
   "metadata": {
    "collapsed": false,
    "pycharm": {
     "name": "#%%\n"
    }
   }
  },
  {
   "cell_type": "code",
   "execution_count": 88,
   "outputs": [],
   "source": [],
   "metadata": {
    "collapsed": false,
    "pycharm": {
     "name": "#%%\n"
    }
   }
  },
  {
   "cell_type": "code",
   "execution_count": 89,
   "outputs": [],
   "source": [
    "#PARAMETERS\n",
    "hidden_nodes=[35]\n",
    "activation='relu'\n",
    "max_iters=1000\n",
    "clip_max=5\n",
    "max_attempts=100\n",
    "random_state=69\n",
    "bias=True\n",
    "is_classifier=True\n",
    "learning_rate=.1\n",
    "early_stopping=True\n",
    "curve=True\n",
    "random_state = 69"
   ],
   "metadata": {
    "collapsed": false,
    "pycharm": {
     "name": "#%%\n"
    }
   }
  },
  {
   "cell_type": "code",
   "execution_count": 120,
   "outputs": [
    {
     "name": "stdout",
     "output_type": "stream",
     "text": [
      "Running experiments for random_hill_climb\n",
      "parameters: NeuralNetwork(clip_max=5, curve=69, early_stopping=True, hidden_nodes=[35],\n",
      "              max_attempts=100, max_iters=1000, random_state=69)\n",
      "---train----\n",
      "score\n",
      "0.6432160804020101\n",
      "Time 0.07001423835754395\n",
      "---test----\n",
      "score 0.5906432748538012\n",
      "Time 0.07040619850158691\n",
      "random_hill_climb,0.6432160804020101,0.5906432748538012,0.07041025161743164\n"
     ]
    }
   ],
   "source": [
    "rhc = mlrose.NeuralNetwork(hidden_nodes=hidden_nodes,\n",
    "                           algorithm='random_hill_climb',\n",
    "                           activation=activation,\n",
    "                           max_iters=max_iters,\n",
    "                           bias=bias,\n",
    "                           is_classifier=is_classifier, learning_rate=learning_rate,\n",
    "                           early_stopping=early_stopping, clip_max=clip_max, max_attempts=max_attempts,\n",
    "                                    random_state=69,curve=random_state)\n",
    "rhc_curve = fitmodel(rhc, \"random_hill_climb\")"
   ],
   "metadata": {
    "collapsed": false,
    "pycharm": {
     "name": "#%%\n"
    }
   }
  },
  {
   "cell_type": "code",
   "execution_count": 127,
   "outputs": [
    {
     "data": {
      "text/plain": "(100, 2)"
     },
     "execution_count": 127,
     "metadata": {},
     "output_type": "execute_result"
    }
   ],
   "source": [
    "rhc_curve.shape"
   ],
   "metadata": {
    "collapsed": false,
    "pycharm": {
     "name": "#%%\n"
    }
   }
  },
  {
   "cell_type": "code",
   "execution_count": 121,
   "outputs": [
    {
     "name": "stdout",
     "output_type": "stream",
     "text": [
      "Running experiments for simulated_annealing\n",
      "parameters: NeuralNetwork(algorithm='simulated_annealing', clip_max=5, curve=69,\n",
      "              early_stopping=True, hidden_nodes=[35], max_attempts=100,\n",
      "              max_iters=1000, random_state=69)\n",
      "---train----\n",
      "score\n",
      "0.6432160804020101\n",
      "Time 2.0664167404174805\n",
      "---test----\n",
      "score 0.5906432748538012\n",
      "Time 2.0667572021484375\n",
      "simulated_annealing,0.6432160804020101,0.5906432748538012,2.066761016845703\n"
     ]
    }
   ],
   "source": [
    "sa = mlrose.NeuralNetwork(hidden_nodes=hidden_nodes,\n",
    "                           algorithm='simulated_annealing',\n",
    "      activation=activation,\n",
    "                           max_iters=max_iters,\n",
    "                           bias=bias,\n",
    "                           is_classifier=is_classifier, learning_rate=learning_rate,\n",
    "                           early_stopping=early_stopping, clip_max=clip_max, max_attempts=max_attempts,\n",
    "                                    random_state=69,curve=random_state)\n",
    "sa_curve =fitmodel(sa, \"simulated_annealing\")"
   ],
   "metadata": {
    "collapsed": false,
    "pycharm": {
     "name": "#%%\n"
    }
   }
  },
  {
   "cell_type": "code",
   "execution_count": 104,
   "outputs": [
    {
     "data": {
      "text/plain": "[]"
     },
     "execution_count": 104,
     "metadata": {},
     "output_type": "execute_result"
    }
   ],
   "source": [
    "sa_curve"
   ],
   "metadata": {
    "collapsed": false,
    "pycharm": {
     "name": "#%%\n"
    }
   }
  },
  {
   "cell_type": "code",
   "execution_count": 122,
   "outputs": [
    {
     "name": "stdout",
     "output_type": "stream",
     "text": [
      "Running experiments for genetic_alg\n",
      "parameters: NeuralNetwork(algorithm='genetic_alg', clip_max=5, curve=69,\n",
      "              early_stopping=True, hidden_nodes=[35], max_attempts=100,\n",
      "              max_iters=1000, random_state=69)\n",
      "---train----\n",
      "score\n",
      "0.9321608040201005\n",
      "Time 26.663134813308716\n",
      "---test----\n",
      "score 0.8830409356725146\n",
      "Time 26.66348361968994\n",
      "genetic_alg,0.9321608040201005,0.8830409356725146,26.663487434387207\n"
     ]
    }
   ],
   "source": [
    "ga = mlrose.NeuralNetwork(hidden_nodes=hidden_nodes,\n",
    "                           algorithm='genetic_alg',\n",
    "      activation=activation,\n",
    "                           max_iters=max_iters,\n",
    "                           bias=bias,\n",
    "                           is_classifier=is_classifier, learning_rate=learning_rate,\n",
    "                           early_stopping=early_stopping, clip_max=clip_max, max_attempts=max_attempts,\n",
    "                                    random_state=69,curve=random_state)\n",
    "ga_curve = fitmodel(ga, \"genetic_alg\")"
   ],
   "metadata": {
    "collapsed": false,
    "pycharm": {
     "name": "#%%\n"
    }
   }
  }
 ],
 "metadata": {
  "kernelspec": {
   "display_name": "Python 3",
   "language": "python",
   "name": "python3"
  },
  "language_info": {
   "codemirror_mode": {
    "name": "ipython",
    "version": 2
   },
   "file_extension": ".py",
   "mimetype": "text/x-python",
   "name": "python",
   "nbconvert_exporter": "python",
   "pygments_lexer": "ipython2",
   "version": "2.7.6"
  }
 },
 "nbformat": 4,
 "nbformat_minor": 0
}